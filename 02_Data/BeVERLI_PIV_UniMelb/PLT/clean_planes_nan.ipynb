{
 "cells": [
  {
   "cell_type": "code",
   "execution_count": 3,
   "id": "75798a16",
   "metadata": {},
   "outputs": [],
   "source": [
    "import numpy as np\n",
    "import pandas as pd"
   ]
  },
  {
   "cell_type": "code",
   "execution_count": 7,
   "id": "15d95395",
   "metadata": {},
   "outputs": [],
   "source": [
    "# load all PIV planes\n",
    "p1  = np.loadtxt('Plane1.dat', skiprows=21)\n",
    "p3  = np.loadtxt('Plane3.dat', skiprows=21)\n",
    "p4  = np.loadtxt('Plane4.dat', skiprows=21)\n",
    "p6  = np.loadtxt('Plane6.dat', skiprows=21)\n",
    "p7  = np.loadtxt('Plane7.dat', skiprows=21)\n",
    "p9  = np.loadtxt('Plane9.dat', skiprows=21)\n",
    "p11 = np.loadtxt('Plane11.dat', skiprows=21)\n",
    "p14 = np.loadtxt('Plane14.dat', skiprows=21)\n",
    "p15 = np.loadtxt('Plane15.dat', skiprows=21)\n",
    "p17 = np.loadtxt('Plane17.dat', skiprows=21)\n",
    "#Plane1.csv\n",
    "#Plane3.csv\n",
    "#Plane4.csv\n",
    "#Plane6.csv\n",
    "#Plane7.csv\n",
    "#Plane9.csv\n",
    "#Plane11.csv\n",
    "#Plane14.csv\n",
    "#Plane15.csv\n",
    "#Plane17.csv"
   ]
  },
  {
   "cell_type": "code",
   "execution_count": 19,
   "id": "fd63f6f3",
   "metadata": {},
   "outputs": [],
   "source": [
    "# concatenate them all into one file\n",
    "# \"X\" \"Y\" \"Z\" \"X Velocity\" \"Y Velocity\" \"Z Velocity\" \"UU\" \"VV\" \"WW\" \"UV\" \"UW\" \"VW\" \"Uinst\" \"Vinst\" \"Winst\" \n",
    "#PIVs = [p1, p3, p4, p6, p7, p9, p11, p14, p15, p17]\n",
    "PIVs = np.vstack((p1, p3, p4, p6, p7, p9, p11, p14, p15, p17))"
   ]
  },
  {
   "cell_type": "code",
   "execution_count": 21,
   "id": "6ed77ac9",
   "metadata": {},
   "outputs": [
    {
     "data": {
      "text/plain": [
       "(2303592, 15)"
      ]
     },
     "execution_count": 21,
     "metadata": {},
     "output_type": "execute_result"
    }
   ],
   "source": [
    "PIVs.shape"
   ]
  },
  {
   "cell_type": "code",
   "execution_count": 22,
   "id": "31b64819",
   "metadata": {},
   "outputs": [],
   "source": [
    "# So, more than 50% of data is Nans! Good job!\n",
    "PIVs_no_NaNs = PIVs[~np.isnan(PIVs).any(axis=1)]"
   ]
  },
  {
   "cell_type": "code",
   "execution_count": 23,
   "id": "ef1354c8",
   "metadata": {},
   "outputs": [
    {
     "data": {
      "text/plain": [
       "(971402, 15)"
      ]
     },
     "execution_count": 23,
     "metadata": {},
     "output_type": "execute_result"
    }
   ],
   "source": [
    "PIVs_no_NaNs.shape"
   ]
  },
  {
   "cell_type": "code",
   "execution_count": 29,
   "id": "76fa9042",
   "metadata": {},
   "outputs": [],
   "source": [
    "# Positions\n",
    "np.savetxt('X.edf', PIVs_no_NaNs[:,0])\n",
    "np.savetxt('Y.edf', PIVs_no_NaNs[:,1])\n",
    "np.savetxt('Z.edf', PIVs_no_NaNs[:,2])"
   ]
  },
  {
   "cell_type": "code",
   "execution_count": 26,
   "id": "81bfc289",
   "metadata": {},
   "outputs": [],
   "source": [
    "# Velocity\n",
    "np.savetxt('U.edf', PIVs_no_NaNs[:,3])\n",
    "np.savetxt('V.edf', PIVs_no_NaNs[:,4])\n",
    "np.savetxt('W.edf', PIVs_no_NaNs[:,5])"
   ]
  },
  {
   "cell_type": "code",
   "execution_count": 27,
   "id": "ec249e9d",
   "metadata": {},
   "outputs": [],
   "source": [
    "# Reynolds stresses\n",
    "np.savetxt('UU.edf', PIVs_no_NaNs[:,6])\n",
    "np.savetxt('VV.edf', PIVs_no_NaNs[:,7])\n",
    "np.savetxt('WW.edf', PIVs_no_NaNs[:,8])\n",
    "np.savetxt('UV.edf', PIVs_no_NaNs[:,9])\n",
    "np.savetxt('UW.edf', PIVs_no_NaNs[:,10])\n",
    "np.savetxt('VW.edf', PIVs_no_NaNs[:,11])"
   ]
  },
  {
   "cell_type": "code",
   "execution_count": 30,
   "id": "5150768c",
   "metadata": {},
   "outputs": [],
   "source": [
    "!gzip *.edf"
   ]
  },
  {
   "cell_type": "code",
   "execution_count": null,
   "id": "5f9a88cb",
   "metadata": {},
   "outputs": [],
   "source": []
  }
 ],
 "metadata": {
  "kernelspec": {
   "display_name": "Python 3 (ipykernel)",
   "language": "python",
   "name": "python3"
  },
  "language_info": {
   "codemirror_mode": {
    "name": "ipython",
    "version": 3
   },
   "file_extension": ".py",
   "mimetype": "text/x-python",
   "name": "python",
   "nbconvert_exporter": "python",
   "pygments_lexer": "ipython3",
   "version": "3.8.13"
  }
 },
 "nbformat": 4,
 "nbformat_minor": 5
}
